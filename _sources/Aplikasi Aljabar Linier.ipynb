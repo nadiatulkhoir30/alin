{
 "cells": [
  {
   "cell_type": "markdown",
   "metadata": {},
   "source": [
    "# **Aplikasi Aljabar Linier**"
   ]
  },
  {
   "cell_type": "markdown",
   "metadata": {},
   "source": [
    "### Definisi\n",
    "PageRank adalah sebuah algoritma, yang diperkenalkan oleh Larry Page, yang digunakan untuk menentukan peringkat halaman web dan sekarang digunakan di berbagai bidang. Algoritma ini memulai dari masalah kompleks dan berakhir dengan solusi sederhana, menggunakan dasar aljabar dan Rantai Markov. PageRank menggambarkan web sebagai grafik berarah, dengan node sebagai halaman web dan tepi sebagai tautan. Pentingnya halaman ditentukan oleh jumlah tautan yang masuk dan distribusi kepentingan yang merata ke semua halaman yang ditautkan. Solusi untuk menentukan peringkat halaman melibatkan Rantai Markov dan distribusi stasioner, yang menyatu setelah langkah tak terhingga, menghasilkan peringkat halaman yang stabil.\n",
    "\n",
    "## Cara Kerja Dari Algoritma PageRank\n",
    "1. **Membuat Grafik Berarah**:\n",
    "   - Pertama, kita menggambarkan web sebagai grafik berarah, dengan setiap halaman web sebagai simpul (node) dan tautan antar halaman sebagai tepi (edge).\n",
    "   - Setiap halaman memiliki skor awal yang sama.\n",
    "\n",
    "2. **Menghitung Skor Awal**:\n",
    "   - Setiap halaman diberi skor awal, biasanya 1/N (dengan N adalah jumlah total halaman).\n",
    "\n",
    "3. **Iterasi PageRank**:\n",
    "   - Lakukan iterasi untuk menghitung skor PageRank hingga konvergensi (stabil).\n",
    "   - Setiap iterasi melibatkan menghitung skor baru untuk setiap halaman berdasarkan tautan masuk dan skor halaman lain.\n",
    "\n",
    "4. **Faktor Damping**:\n",
    "   - Faktor damping (biasanya sekitar 0,85) memastikan bahwa tidak semua skor tautan masuk langsung ditambahkan.\n",
    "   - Rumus PageRank setelah faktor damping:\n",
    "     $$ PR(A) = (1-d) + d \\left( \\frac{PR(T1)}{C(T1)} + \\ldots + \\frac{PR(Tn)}{C(Tn)} \\right) $$\n",
    "\n",
    "5. **Iterasi Lanjutan**:\n",
    "   - Lakukan iterasi hingga skor PageRank konvergen (tidak berubah signifikan).\n",
    "\n",
    "6. **Hasil Akhir**:\n",
    "   - Halaman dengan skor PageRank tertinggi dianggap lebih penting.\n"
   ]
  },
  {
   "cell_type": "markdown",
   "metadata": {},
   "source": [
    "\n",
    "  $$r_j = \\sum\\limits_{i=1}\\frac{r_i}{d_i}$$\n",
    "\n",
    "  $\n",
    "  r_0 = \\frac{r_4}{3}\\\\\n",
    "  r_1 = \\frac{r_2}{2}+\\frac{r_4}{3}+r_3\\\\\n",
    "  r_2 = \\frac{r_0}{3}+\\frac{r_4}{3}\\\\\n",
    "  r_3 = \\frac{r_2}{2}+\\frac{r_0}{3}\\\\\n",
    "  r_4 = \\frac{r_0}{3}+r_1\\\\\n",
    "  $\n",
    "\n",
    "  $A = \\begin{bmatrix}\n",
    "  0 & 0 & 0 & 0 & \\frac{1}{3}\\\\\n",
    "  0 & 0 & \\frac{1}{2} & 1 & \\frac{1}{3}\\\\\n",
    "  \\frac{1}{3} & 0 & 0 & 0 & \\frac{1}{3}\\\\\n",
    "  \\frac{1}{3} & 0 & \\frac{1}{2} & 0 & 0\\\\\n",
    "  \\frac{1}{3} & 1 & 0 & 0 & 0\\\\\n",
    "  \\end{bmatrix}$\n",
    "  \n",
    "\n",
    "\n",
    "  $\n",
    "  V0 =\n",
    "  \\begin{bmatrix}\n",
    "  0,2 \\\\\n",
    "  0,2 \\\\\n",
    "  0,2 \\\\\n",
    "  0,2 \\\\\n",
    "  0,2 \\\\\n",
    "  \\end{bmatrix}\n",
    "  $\n",
    "\n",
    "  toleransi = 0,01\n",
    "\n",
    "\n",
    "\n"
   ]
  },
  {
   "cell_type": "markdown",
   "metadata": {},
   "source": [
    "## **Contoh Secara Manual**"
   ]
  },
  {
   "cell_type": "code",
   "execution_count": 1,
   "metadata": {},
   "outputs": [
    {
     "name": "stdout",
     "output_type": "stream",
     "text": [
      "[[0.06666667]\n",
      " [0.36666667]\n",
      " [0.13333333]\n",
      " [0.16666667]\n",
      " [0.26666667]]\n"
     ]
    }
   ],
   "source": [
    "import numpy as np\n",
    "A = np.array([[0, 0, 0, 0, 1/3],[0, 0, 1/2, 1, 1/3],[1/3, 0, 0, 0, 1/3], [1/3, 0, 1/2, 0, 0], [1/3, 1, 0, 0, 0]])\n",
    "v0 = np.array([[0.2], [0.2], [0.2], [0.2], [0.2]])\n",
    "\n",
    "v1 = A @ v0\n",
    "print(v1)\n"
   ]
  },
  {
   "cell_type": "code",
   "execution_count": 2,
   "metadata": {},
   "outputs": [
    {
     "name": "stdout",
     "output_type": "stream",
     "text": [
      "[[0.08888889]\n",
      " [0.32222222]\n",
      " [0.11111111]\n",
      " [0.08888889]\n",
      " [0.38888889]]\n"
     ]
    }
   ],
   "source": [
    "v2 = A @ v1\n",
    "print(v2)"
   ]
  },
  {
   "cell_type": "code",
   "execution_count": 3,
   "metadata": {},
   "outputs": [
    {
     "name": "stdout",
     "output_type": "stream",
     "text": [
      "[[0.12962963]\n",
      " [0.27407407]\n",
      " [0.15925926]\n",
      " [0.08518519]\n",
      " [0.35185185]]\n"
     ]
    }
   ],
   "source": [
    "v3 = A @ v2\n",
    "print (v3)"
   ]
  },
  {
   "cell_type": "code",
   "execution_count": 4,
   "metadata": {},
   "outputs": [
    {
     "name": "stdout",
     "output_type": "stream",
     "text": [
      "[[0.11728395]\n",
      " [0.28209877]\n",
      " [0.16049383]\n",
      " [0.12283951]\n",
      " [0.31728395]]\n"
     ]
    }
   ],
   "source": [
    "v4 = A @ v3\n",
    "print (v4)"
   ]
  },
  {
   "cell_type": "code",
   "execution_count": 5,
   "metadata": {},
   "outputs": [
    {
     "name": "stdout",
     "output_type": "stream",
     "text": [
      "[[0.10576132]\n",
      " [0.30884774]\n",
      " [0.14485597]\n",
      " [0.11934156]\n",
      " [0.32119342]]\n"
     ]
    }
   ],
   "source": [
    "v5 = A @ v4\n",
    "print (v5)"
   ]
  },
  {
   "cell_type": "markdown",
   "metadata": {},
   "source": [
    "$$\n",
    "\\begin{align*}\n",
    "&= (0,10 - 0,11)^2 + (0,30 - 0,28)^2 + (0,14 - 0,16)^2 \\\\\n",
    "&\\quad + (0,11 - 0,12)^2 + (0,32 - 0,31)^2 \\\\\n",
    "&= 0,01^2 + 0,02^2 + (-0,02)^2 + (-0,01)^2 + 0,01^2 \\\\\n",
    "&= 0,0001 + 0,0004 + 0,0004 + 0,0001 + 0,0001 \\\\\n",
    "&= 0,0011 < 0,01\n",
    "\\end{align*}\n",
    "$$\n"
   ]
  },
  {
   "cell_type": "code",
   "execution_count": 6,
   "metadata": {},
   "outputs": [
    {
     "name": "stdout",
     "output_type": "stream",
     "text": [
      "0.0010999999999999981\n"
     ]
    }
   ],
   "source": [
    "a = (0.10 - 0.11)**2\n",
    "b = (0.30 - 0.28)**2\n",
    "c = (0.14 - 0.16)**2\n",
    "d = (0.11 - 0.12)**2\n",
    "e = (0.32 - 0.31)**2\n",
    "\n",
    "f = a + b + c + d + e\n",
    "\n",
    "print(f)"
   ]
  },
  {
   "cell_type": "markdown",
   "metadata": {},
   "source": [
    "# **Tugas**\n",
    "\n",
    "## Contoh Memakai Python"
   ]
  },
  {
   "cell_type": "code",
   "execution_count": 22,
   "metadata": {},
   "outputs": [
    {
     "name": "stdout",
     "output_type": "stream",
     "text": [
      "Hasil konvergen:\n",
      "[0.11150739 0.293549   0.14974089 0.11342783 0.33177488]\n",
      "\n",
      "Jumlah iterasi: 7\n",
      "\n",
      "Nilai PageRank yang diurutkan:\n",
      "Halaman 0: 0.3317748818777625\n",
      "Halaman 1: 0.29354900167657366\n",
      "Halaman 2: 0.149740893156531\n",
      "Halaman 3: 0.11342783112330437\n",
      "Halaman 4: 0.11150739216582836\n"
     ]
    }
   ],
   "source": [
    "import numpy as np\n",
    "\n",
    "def perkalianMatrix(A, V, conv=0.01, itr=0):\n",
    "    # Mengalikan matriks A dengan vektor V\n",
    "    A_ = A.dot(V)\n",
    "    \n",
    "    # Memeriksa apakah konvergen (perubahan kurang dari ambang batas)\n",
    "    if np.linalg.norm(A_ - V) < conv:\n",
    "        return A_, itr\n",
    "    else:\n",
    "        # Jika belum konvergen, lanjutkan iterasi dengan matriks baru\n",
    "        return perkalianMatrix(A, A_, conv, itr+1)\n",
    "\n",
    "# matriks A \n",
    "A = np.array([[0, 0, 0, 0, 1/3],\n",
    "              [0, 0, 1/2, 1, 1/3],\n",
    "              [1/3, 0, 0, 0, 1/3],\n",
    "              [1/3, 0, 1/2, 0, 0],\n",
    "              [1/3, 1, 0, 0, 0]])\n",
    "\n",
    "# vektor PageRank awal (semua halaman memiliki nilai awal 0.2)\n",
    "V = np.array([0.2, 0.2, 0.2, 0.2, 0.2])\n",
    "\n",
    "# Hitung PageRank\n",
    "hasil, iterasi = perkalianMatrix(A, V)\n",
    "\n",
    "# Tampilkan hasil\n",
    "print(\"Hasil konvergen:\")\n",
    "print(hasil)\n",
    "print()\n",
    "print(\"Jumlah iterasi:\", iterasi)\n",
    "print()\n",
    "\n",
    "# Urutkan nilai PageRank\n",
    "hasil_terurut = sorted(hasil, reverse=True)\n",
    "print(\"Nilai PageRank yang diurutkan:\")\n",
    "for i, pr in enumerate(hasil_terurut):\n",
    "    print(f\"Halaman {i}: {pr:}\")\n"
   ]
  },
  {
   "cell_type": "markdown",
   "metadata": {},
   "source": [
    "# **Penjelasan**\n",
    "\n",
    "1. **Matriks Transisi \\($A$\\)**:\n",
    "   \n",
    "\n",
    "   \\[ $A = \\begin{bmatrix}\n",
    "   0 & 0 & 0 & 0 & \\frac{1}{3} \\\\\n",
    "   0 & 0 & \\frac{1}{2} & 1 & \\frac{1}{3} \\\\\n",
    "   \\frac{1}{3} & 0 & 0 & 0 & \\frac{1}{3} \\\\\n",
    "   \\frac{1}{3} & 0 & \\frac{1}{2} & 0 & 0 \\\\\n",
    "   \\frac{1}{3} & 1 & 0 & 0 & 0 \\\\\n",
    "   \\end{bmatrix}$ \\]\n",
    "\n",
    "   Pertama, kita sudah memiliki matriks transisi \\($A$\\). Dan matriks ini menggambarkan probabilitas perpindahan dari satu halaman ke halaman lain. Dimana matriks ini dibangun dari struktur tautan antara halaman web.\n",
    "\n",
    "   \n",
    "2. **Vektor PageRank Awal \\(V\\)**:\n",
    "   \n",
    "\n",
    "   \\[ $V = \\begin{bmatrix}\n",
    "   0.2 \\\\\n",
    "   0.2 \\\\\n",
    "   0.2 \\\\\n",
    "   0.2 \\\\\n",
    "   0.2 \\\\\n",
    "   \\end{bmatrix}$ \\]\n",
    "\n",
    "\n",
    "   saya memiliki vektor PageRank awal \\($V$\\). Vektor ini menggambarkan nilai awal PageRank untuk setiap halaman. Pada awalnya, semua halaman mungkin memiliki nilai yang sama (seperti ini, \\($0.2$\\)).\n",
    "\n",
    "   \n",
    "3. **Perhitungan PageRank**:\n",
    "\n",
    "   Iterasi dilakukan dengan mengalikan matriks \\($A$\\) dengan vektor \\($V$\\). Hasilnya adalah vektor baru \\($V'$\\):\n",
    "\n",
    "   \\[$ V' = A \\cdot V $\\]\n",
    "\n",
    "   \\[ $A = \\begin{bmatrix}                                             \n",
    "   0 & 0 & 0 & 0 & \\frac{1}{3} \\\\\n",
    "   0 & 0 & \\frac{1}{2} & 1 & \\frac{1}{3} \\\\                \n",
    "   \\frac{1}{3} & 0 & 0 & 0 & \\frac{1}{3} \\\\\n",
    "   \\frac{1}{3} & 0 & \\frac{1}{2} & 0 & 0 \\\\\n",
    "   \\frac{1}{3} & 1 & 0 & 0 & 0 \\\\\n",
    "   \\end{bmatrix}$ \\] \n",
    "   \n",
    "    $\\cdot$\n",
    "\n",
    "   \\[ $V = \\begin{bmatrix}\n",
    "   0.2 \\\\\n",
    "   0.2 \\\\\n",
    "   0.2 \\\\\n",
    "   0.2 \\\\\n",
    "   0.2 \\\\\n",
    "   \\end{bmatrix}$ \\]\n",
    "   \n",
    "   Setelah itu, periksa apakah perubahan antara \\($V'$\\) dan \\($V$\\) kurang dari ambang batas (\\($0.01$\\)). Jika ya, kita menganggap konvergen dan menghentikan iterasi. Jika tidak, kita lanjutkan iterasi dengan menggunakan \\($V'$\\) sebagai vektor PageRank baru.\n",
    "\n",
    "4. **Hasil Konvergen**:\n",
    "\n",
    "   Hasil konvergen adalah:\n",
    "\n",
    "   \\[ $\\text{PageRank} = \\begin{bmatrix}\n",
    "   0.331 \\\\\n",
    "   0.293 \\\\\n",
    "   0.149 \\\\\n",
    "   0.113 \\\\\n",
    "   0.331 \\\\\n",
    "   \\end{bmatrix}$ \\]\n",
    "\n",
    "5. **Nilai PageRank yang Diurutkan**:\n",
    "\n",
    "   Nilai PageRank yang diurutkan dari yang tertinggi ke terendah:\n",
    "\n",
    "   - Halaman 1: 0.331\n",
    "   - Halaman 2: 0.293\n",
    "   - Halaman 3: 0.149\n",
    "   - Halaman 4: 0.113\n",
    "   - Halaman 5: 0.111\n"
   ]
  },
  {
   "cell_type": "markdown",
   "metadata": {},
   "source": []
  },
  {
   "cell_type": "markdown",
   "metadata": {},
   "source": []
  }
 ],
 "metadata": {
  "kernelspec": {
   "display_name": "Python 3",
   "language": "python",
   "name": "python3"
  },
  "language_info": {
   "codemirror_mode": {
    "name": "ipython",
    "version": 3
   },
   "file_extension": ".py",
   "mimetype": "text/x-python",
   "name": "python",
   "nbconvert_exporter": "python",
   "pygments_lexer": "ipython3",
   "version": "3.10.13"
  }
 },
 "nbformat": 4,
 "nbformat_minor": 2
}
